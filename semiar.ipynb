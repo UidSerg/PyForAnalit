{
 "cells": [
  {
   "cell_type": "markdown",
   "metadata": {},
   "source": [
    "# 1.1 Соедините два словаря в один\n",
    "\n",
    "## 1.2 Напишите функцию, которая на вход принимает два словаря и возвращает один объединенный словарь\n",
    "### Используйте аннотирование типов"
   ]
  },
  {
   "cell_type": "code",
   "execution_count": 24,
   "metadata": {},
   "outputs": [
    {
     "name": "stdout",
     "output_type": "stream",
     "text": [
      "{'One': 1, 'Two': 2, 'Three': 3, 'Four': 4, 'Five': 5, 'Six': 6}\n"
     ]
    }
   ],
   "source": [
    "def join_dict(dict1, dict2):\n",
    "    #return {**d1, **d2}\n",
    "    dict1.update(dict2)\n",
    "    return dict1\n",
    "\n",
    "dict1 = {'One': 1, 'Two': 2, 'Three': 3}\n",
    "dict2 = {'Four': 4, 'Five': 5, 'Six': 6}\n",
    "print(join_dict(dict1,dict2))"
   ]
  },
  {
   "cell_type": "markdown",
   "metadata": {},
   "source": [
    "Напишите функцию, которая из двух списков, делает один словарь, где элементы из первого списка - ключи, а элементы из второго списка - значения\n",
    "\n",
    "\n",
    "Используйте аннотирование типов\n",
    "\n",
    "2.1 Используя цикл for"
   ]
  },
  {
   "cell_type": "code",
   "execution_count": 25,
   "metadata": {},
   "outputs": [
    {
     "data": {
      "text/plain": [
       "{'One': 1, 'Two': 2, 'Three': 3}"
      ]
     },
     "execution_count": 25,
     "metadata": {},
     "output_type": "execute_result"
    }
   ],
   "source": [
    "keys =['One', 'Two', 'Three']\n",
    "values = [1,2,3]\n",
    "\n",
    "def dict_gen(d1,d2):\n",
    "    dict_join ={}\n",
    "    for i in range(len(keys)):\n",
    "        dict_join[d1[i]] = d2[i]\n",
    "    return dict_join\n",
    "dict_gen(keys, values)"
   ]
  },
  {
   "cell_type": "markdown",
   "metadata": {},
   "source": [
    "2.2 Используя dict comprehensions"
   ]
  },
  {
   "cell_type": "code",
   "execution_count": 26,
   "metadata": {},
   "outputs": [
    {
     "data": {
      "text/plain": [
       "{'One': 1, 'Two': 2, 'Three': 3}"
      ]
     },
     "execution_count": 26,
     "metadata": {},
     "output_type": "execute_result"
    }
   ],
   "source": [
    "keys =['One', 'Two', 'Three']\n",
    "values = [1,2,3]\n",
    "\n",
    "def join_dict(d1: list,d2: list) -> dict:\n",
    "    dict_join={d1[i]:d2[i] for i in range(len(d1)) }\n",
    "    return dict_join\n",
    "join_dict(keys,values)"
   ]
  },
  {
   "cell_type": "markdown",
   "metadata": {},
   "source": [
    "## Задание 3.\n",
    "Извлеките только два ключа name и age из представленного словаря\n",
    "client_dict = {\n",
    "\t\"name\": \"John\",\n",
    "\t\"age\": 25,\n",
    "\t\"salary\": 5000,\n",
    "\t\"city\": \"Moscow\"\n",
    "}\n",
    "\n",
    "3.1 Напишите функцию с циклом for\n",
    "Функция на вход принимает:\n",
    "исходный словарь\n",
    "ключи, которые нужно извлечь (аргумент по умолчанию)\n",
    "На выходе словарь с нужными ключами\n",
    "Используйте аннотирование типов\n",
    "3.2 Используя dict comprehensions"
   ]
  },
  {
   "cell_type": "code",
   "execution_count": 27,
   "metadata": {},
   "outputs": [
    {
     "data": {
      "text/plain": [
       "{'name': 'John', 'age': 25}"
      ]
     },
     "execution_count": 27,
     "metadata": {},
     "output_type": "execute_result"
    }
   ],
   "source": [
    "client_dict = {\n",
    "\t\"name\": \"John\",\n",
    "\t\"age\": 25,\n",
    "\t\"salary\": 5000,\n",
    "\t\"city\": \"Moscow\"\n",
    "}\n",
    "\n",
    "def extract(dict1,keys=['name','age']):\n",
    "    dict_extract={}\n",
    "    for i in keys:\n",
    "            dict_extract.update({i:dict1[i]}) \n",
    "    return dict_extract\n",
    "extract(client_dict, ['name','age'])"
   ]
  },
  {
   "cell_type": "code",
   "execution_count": 28,
   "metadata": {},
   "outputs": [
    {
     "data": {
      "text/plain": [
       "{'name': 'John', 'age': 25, 'salary': 5000}"
      ]
     },
     "execution_count": 28,
     "metadata": {},
     "output_type": "execute_result"
    }
   ],
   "source": [
    "# из чата\n",
    "def ext(d1: dict,keys=['name','age']) -> dict:\n",
    "    dict_join = {}\n",
    "    for i in keys:\n",
    "            dict_join.update({i:d1[i]})\n",
    "    return dict_join\n",
    "ext(client_dict, ['name','age','salary'] )"
   ]
  },
  {
   "cell_type": "code",
   "execution_count": 29,
   "metadata": {},
   "outputs": [
    {
     "data": {
      "text/plain": [
       "{'name': 'John', 'age': 25, 'salary': 5000}"
      ]
     },
     "execution_count": 29,
     "metadata": {},
     "output_type": "execute_result"
    }
   ],
   "source": [
    "def ext(d1: dict,keys=['name','age']) -> dict:\n",
    "    dict_join = {key:d1[key] for key in keys}\n",
    "    return dict_join\n",
    "ext(client_dict, ['name','age','salary'] )"
   ]
  }
 ],
 "metadata": {
  "kernelspec": {
   "display_name": "Python 3",
   "language": "python",
   "name": "python3"
  },
  "language_info": {
   "codemirror_mode": {
    "name": "ipython",
    "version": 3
   },
   "file_extension": ".py",
   "mimetype": "text/x-python",
   "name": "python",
   "nbconvert_exporter": "python",
   "pygments_lexer": "ipython3",
   "version": "3.12.0"
  },
  "orig_nbformat": 4
 },
 "nbformat": 4,
 "nbformat_minor": 2
}
